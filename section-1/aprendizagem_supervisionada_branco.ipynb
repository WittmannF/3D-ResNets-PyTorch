{
  "nbformat": 4,
  "nbformat_minor": 0,
  "metadata": {
    "anaconda-cloud": {},
    "kernelspec": {
      "name": "python3",
      "display_name": "Python 3"
    },
    "colab": {
      "name": "aprendizagem-supervisionada-branco.ipynb",
      "provenance": [],
      "include_colab_link": true
    }
  },
  "cells": [
    {
      "cell_type": "markdown",
      "metadata": {
        "id": "view-in-github",
        "colab_type": "text"
      },
      "source": [
        "<a href=\"https://colab.research.google.com/github/WittmannF/3D-ResNets-PyTorch/blob/master/section-1/aprendizagem_supervisionada_branco.ipynb\" target=\"_parent\"><img src=\"https://colab.research.google.com/assets/colab-badge.svg\" alt=\"Open In Colab\"/></a>"
      ]
    },
    {
      "cell_type": "markdown",
      "metadata": {
        "id": "E9YvwUqdSowL",
        "colab_type": "text"
      },
      "source": [
        "# Exemplo: Vamos treinar um modelo"
      ]
    },
    {
      "cell_type": "code",
      "metadata": {
        "id": "7rgR2Qm2SowP",
        "colab_type": "code",
        "outputId": "9d5d2790-da22-401f-b05e-92d2a97a0590",
        "colab": {
          "base_uri": "https://localhost:8080/",
          "height": 119
        }
      },
      "source": [
        "import numpy as np \n",
        "import pandas as pd\n",
        "\n",
        "!git clone https://github.com/WittmannF/dev-udemy-deep-learning\n",
        "!cd 'dev-udemy-deep-learning/section-1'\n",
        "from detector_idioma import Modelo"
      ],
      "execution_count": 0,
      "outputs": [
        {
          "output_type": "stream",
          "text": [
            "Cloning into 'dev-udemy-deep-learning'...\n",
            "remote: Enumerating objects: 25, done.\u001b[K\n",
            "remote: Counting objects: 100% (25/25), done.\u001b[K\n",
            "remote: Compressing objects: 100% (15/15), done.\u001b[K\n",
            "remote: Total 25 (delta 4), reused 0 (delta 0), pack-reused 0\u001b[K\n",
            "Unpacking objects: 100% (25/25), done.\n"
          ],
          "name": "stdout"
        }
      ]
    },
    {
      "cell_type": "code",
      "metadata": {
        "id": "D71Q-Ar7SowT",
        "colab_type": "code",
        "colab": {}
      },
      "source": [
        "# Copie e cole abaixo textos em português\n",
        "portugues = \"\"\"\n",
        "\n",
        "\"\"\"\n",
        "\n",
        "# Separando as frases\n",
        "portugues=portugues.replace('\\n', '').split('.')"
      ],
      "execution_count": 0,
      "outputs": []
    },
    {
      "cell_type": "code",
      "metadata": {
        "id": "oVf6nTz9SowW",
        "colab_type": "code",
        "colab": {}
      },
      "source": [
        "# Copie e cole abaixo textos em inglês\n",
        "ingles = \"\"\"\n",
        "\n",
        "\"\"\"\n",
        "# Separando as frases\n",
        "ingles=ingles.replace('\\n', '').split('.')"
      ],
      "execution_count": 0,
      "outputs": []
    },
    {
      "cell_type": "code",
      "metadata": {
        "id": "RDkBn9qM7ldh",
        "colab_type": "code",
        "outputId": "1a9114cb-efa1-44be-c3f5-6d7518bbb65e",
        "colab": {
          "base_uri": "https://localhost:8080/",
          "height": 51
        }
      },
      "source": [
        "# Vamos imprimir o número de frases coletadas\n",
        "n_frases_pt = len(portugues)\n",
        "n_frases_en = len(ingles)\n",
        "print(f'Número de frases em Português: {n_frases_pt}')\n",
        "print(f'Número de frases em Inglês: {n_frases_en}')"
      ],
      "execution_count": 0,
      "outputs": [
        {
          "output_type": "stream",
          "text": [
            "Número de frases em Português: 26\n",
            "Número de frases em Inglês: 35\n"
          ],
          "name": "stdout"
        }
      ]
    },
    {
      "cell_type": "code",
      "metadata": {
        "id": "CStjbyfMSowZ",
        "colab_type": "code",
        "colab": {}
      },
      "source": [
        "# Vamos unir em uma só lista todas as frases em português e em inglês\n",
        "entrada = portugues + ingles"
      ],
      "execution_count": 0,
      "outputs": []
    },
    {
      "cell_type": "code",
      "metadata": {
        "id": "pZ47Sp1-5BCp",
        "colab_type": "code",
        "colab": {}
      },
      "source": [
        "# Vamos atribuir como saída 1 para as frases em pt e 0 para as frases em inglês\n",
        "saida = [1]*n_frases_pt + [0]*n_frases_en"
      ],
      "execution_count": 0,
      "outputs": []
    },
    {
      "cell_type": "code",
      "metadata": {
        "id": "3_W2DRC_8pVl",
        "colab_type": "code",
        "outputId": "d11d37e9-12b8-4b63-c137-7fc680533663",
        "colab": {
          "base_uri": "https://localhost:8080/",
          "height": 419
        }
      },
      "source": [
        "# Visualizando algumas frases\n",
        "pd.DataFrame({'Frase': entrada, 'Idioma': saida})"
      ],
      "execution_count": 0,
      "outputs": [
        {
          "output_type": "execute_result",
          "data": {
            "text/html": [
              "<div>\n",
              "<style scoped>\n",
              "    .dataframe tbody tr th:only-of-type {\n",
              "        vertical-align: middle;\n",
              "    }\n",
              "\n",
              "    .dataframe tbody tr th {\n",
              "        vertical-align: top;\n",
              "    }\n",
              "\n",
              "    .dataframe thead th {\n",
              "        text-align: right;\n",
              "    }\n",
              "</style>\n",
              "<table border=\"1\" class=\"dataframe\">\n",
              "  <thead>\n",
              "    <tr style=\"text-align: right;\">\n",
              "      <th></th>\n",
              "      <th>Frase</th>\n",
              "      <th>Idioma</th>\n",
              "    </tr>\n",
              "  </thead>\n",
              "  <tbody>\n",
              "    <tr>\n",
              "      <th>0</th>\n",
              "      <td>O gato (Felis silvestris catus), também conhec...</td>\n",
              "      <td>1</td>\n",
              "    </tr>\n",
              "    <tr>\n",
              "      <th>1</th>\n",
              "      <td>Ocupando o topo da cadeia alimentar, é predad...</td>\n",
              "      <td>1</td>\n",
              "    </tr>\n",
              "    <tr>\n",
              "      <th>2</th>\n",
              "      <td>A primeira associação com os humanos da qual s...</td>\n",
              "      <td>1</td>\n",
              "    </tr>\n",
              "    <tr>\n",
              "      <th>3</th>\n",
              "      <td>500 anos,[5][6] período superior ao estimado a...</td>\n",
              "      <td>1</td>\n",
              "    </tr>\n",
              "    <tr>\n",
              "      <th>4</th>\n",
              "      <td>A subfamília Felinae, que agrupa os gatos dom...</td>\n",
              "      <td>1</td>\n",
              "    </tr>\n",
              "    <tr>\n",
              "      <th>...</th>\n",
              "      <td>...</td>\n",
              "      <td>...</td>\n",
              "    </tr>\n",
              "    <tr>\n",
              "      <th>56</th>\n",
              "      <td>Northern Sami gáđfi, \"female stoat\", and Hung...</td>\n",
              "      <td>0</td>\n",
              "    </tr>\n",
              "    <tr>\n",
              "      <th>57</th>\n",
              "      <td>[24]The English puss, extended as pussy and pu...</td>\n",
              "      <td>0</td>\n",
              "    </tr>\n",
              "    <tr>\n",
              "      <th>58</th>\n",
              "      <td>Similar forms exist in Lithuanian puižė and I...</td>\n",
              "      <td>0</td>\n",
              "    </tr>\n",
              "    <tr>\n",
              "      <th>59</th>\n",
              "      <td>The etymology of this word is unknown, but it...</td>\n",
              "      <td>0</td>\n",
              "    </tr>\n",
              "    <tr>\n",
              "      <th>60</th>\n",
              "      <td>[25][26]</td>\n",
              "      <td>0</td>\n",
              "    </tr>\n",
              "  </tbody>\n",
              "</table>\n",
              "<p>61 rows × 2 columns</p>\n",
              "</div>"
            ],
            "text/plain": [
              "                                                Frase  Idioma\n",
              "0   O gato (Felis silvestris catus), também conhec...       1\n",
              "1    Ocupando o topo da cadeia alimentar, é predad...       1\n",
              "2   A primeira associação com os humanos da qual s...       1\n",
              "3   500 anos,[5][6] período superior ao estimado a...       1\n",
              "4    A subfamília Felinae, que agrupa os gatos dom...       1\n",
              "..                                                ...     ...\n",
              "56   Northern Sami gáđfi, \"female stoat\", and Hung...       0\n",
              "57  [24]The English puss, extended as pussy and pu...       0\n",
              "58   Similar forms exist in Lithuanian puižė and I...       0\n",
              "59   The etymology of this word is unknown, but it...       0\n",
              "60                                           [25][26]       0\n",
              "\n",
              "[61 rows x 2 columns]"
            ]
          },
          "metadata": {
            "tags": []
          },
          "execution_count": 41
        }
      ]
    },
    {
      "cell_type": "code",
      "metadata": {
        "id": "n7olwVnjX-DM",
        "colab_type": "code",
        "colab": {}
      },
      "source": [
        "# 1. Declarando um modelo\n",
        "modelo = Modelo()"
      ],
      "execution_count": 0,
      "outputs": []
    },
    {
      "cell_type": "code",
      "metadata": {
        "id": "9vUfSsbcYAmc",
        "colab_type": "code",
        "outputId": "2a9def01-b007-4907-cf52-45fc9f57634d",
        "colab": {
          "base_uri": "https://localhost:8080/",
          "height": 51
        }
      },
      "source": [
        "# 2. Treinando o modelo\n",
        "modelo.treinar(entrada, saida)"
      ],
      "execution_count": 0,
      "outputs": [
        {
          "output_type": "stream",
          "text": [
            "Treinando...\n",
            "Treinamento Concluído!\n"
          ],
          "name": "stdout"
        }
      ]
    },
    {
      "cell_type": "code",
      "metadata": {
        "id": "TVpwz6muYAqg",
        "colab_type": "code",
        "outputId": "7433aafc-4e79-4fd8-cf99-eadaa5ca5867",
        "colab": {
          "base_uri": "https://localhost:8080/",
          "height": 51
        }
      },
      "source": [
        "# 3. Prevendo\n",
        "modelo.prever('<insira um texto em pt ou en>')"
      ],
      "execution_count": 0,
      "outputs": [
        {
          "output_type": "stream",
          "text": [
            "O texto digitado está em Inglês\n",
            "Confiança: 84.55%\n"
          ],
          "name": "stdout"
        }
      ]
    },
    {
      "cell_type": "code",
      "metadata": {
        "id": "zHv-2UDLSoxL",
        "colab_type": "code",
        "colab": {}
      },
      "source": [
        ""
      ],
      "execution_count": 0,
      "outputs": []
    }
  ]
}